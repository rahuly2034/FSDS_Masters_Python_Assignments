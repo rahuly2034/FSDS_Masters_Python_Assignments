{
 "cells": [
  {
   "cell_type": "markdown",
   "id": "1c00c9ef",
   "metadata": {},
   "source": [
    "Q.1. Create two int type variables, apply addition, subtraction, division and multiplications\n",
    "and store the results in variables. Then print the data in the following format by calling the\n",
    "variables:\n",
    "First variable is __ & second variable is __.\n",
    "Addition: __ + __ = __\n",
    "Subtraction: __ - __ = __\n",
    "Multiplication: __ * __ = __\n",
    "Division: __ / __ = __"
   ]
  },
  {
   "cell_type": "code",
   "execution_count": 2,
   "id": "f3b4cdff",
   "metadata": {},
   "outputs": [
    {
     "name": "stdout",
     "output_type": "stream",
     "text": [
      "Addition: 1+2=3\n",
      "Subtraction: 1-2=-1\n",
      "Multipication: 1*2=2\n",
      "Division: 1/2=0.5\n"
     ]
    }
   ],
   "source": [
    "'''\n",
    "First variable is __ & second variable is __.\n",
    "Addition: __ + __ = __\n",
    "Subtraction: __ - __ = __\n",
    "Multiplication: __ * __ = __\n",
    "Division: __ / __ = __\n",
    "'''\n",
    "a = 1\n",
    "b = 2\n",
    "Addition= a + b\n",
    "Subtraction = a - b\n",
    "Multiplication = a * b\n",
    "Division = a / b\n",
    "print(f\"Addition: {a}+{b}={a+b}\")\n",
    "print(f\"Subtraction: {a}-{b}={a-b}\")\n",
    "print(f\"Multipication: {a}*{b}={a*b}\")\n",
    "print(f\"Division: {a}/{b}={a/b}\")"
   ]
  },
  {
   "cell_type": "markdown",
   "id": "d25b3206",
   "metadata": {},
   "source": [
    "Q.2. What is the difference between the following operators:\n",
    "(i) ‘/’ & ‘//’\n",
    "(ii) ‘**’ & ‘^’"
   ]
  },
  {
   "cell_type": "code",
   "execution_count": 6,
   "id": "bbe0349e",
   "metadata": {},
   "outputs": [
    {
     "name": "stdout",
     "output_type": "stream",
     "text": [
      "0.5\n",
      "0\n",
      "100000000000000000000\n",
      "30\n"
     ]
    },
    {
     "data": {
      "text/plain": [
       "'\\nExplanation - \\n10 is written as 01010\\n20 is written as 10100\\nso output is 11110 i.e 30\\n'"
      ]
     },
     "execution_count": 6,
     "metadata": {},
     "output_type": "execute_result"
    }
   ],
   "source": [
    "''''\n",
    "i - / means division\n",
    "ii - // means floor division\n",
    "Example - \n",
    "'''\n",
    "num_1 = 10\n",
    "num_2 = 20\n",
    "print(num_1/num_2)\n",
    "print(num_1//num_2)\n",
    "\n",
    "# ** means Exponent\n",
    "\n",
    "print(num_1**num_2)\n",
    "\n",
    "# \tXOR means Sets each bit to 1 if only one of two bits is 1\n",
    "\n",
    "print(num_1^num_2)\n",
    "\n",
    "'''\n",
    "Explanation - \n",
    "10 is written as 01010\n",
    "20 is written as 10100\n",
    "so output is 11110 i.e 30\n",
    "'''"
   ]
  },
  {
   "cell_type": "markdown",
   "id": "45b26f55",
   "metadata": {},
   "source": [
    "Q.3. List the logical operators."
   ]
  },
  {
   "cell_type": "code",
   "execution_count": 14,
   "id": "a7203309",
   "metadata": {},
   "outputs": [
    {
     "name": "stdout",
     "output_type": "stream",
     "text": [
      "0\n",
      "30\n"
     ]
    }
   ],
   "source": [
    "'''\n",
    "And Operator\n",
    "Or Operator\n",
    "Not Operator\n",
    "\n",
    "'''\n",
    "# And Example\n",
    "\n",
    "num_1 = 10\n",
    "num_2 = 20\n",
    "\n",
    "print(num_1&num_2)\n",
    "\n",
    "# In And when both bitwise is 1 then 1 and 0 then 0.\n",
    "\n",
    "#Or Example\n",
    "\n",
    "print(num_1|num_2)\n",
    "# In Or when any one operater is 1 then 1 and both are 0 then 0\n",
    "\n",
    "# Not Operator - !True = False and !False = True \n"
   ]
  },
  {
   "cell_type": "markdown",
   "id": "61b038cf",
   "metadata": {},
   "source": [
    "Q.4. Explain right shift operator and left shift operator with examples."
   ]
  },
  {
   "cell_type": "code",
   "execution_count": 17,
   "id": "8f24d6a6",
   "metadata": {},
   "outputs": [
    {
     "name": "stdout",
     "output_type": "stream",
     "text": [
      "0b101000\n"
     ]
    }
   ],
   "source": [
    "'''\n",
    "The left operand’s value is moved toward right by the number of bits \n",
    "\n",
    "specified by the right operand.\n",
    "'''\n",
    "a = 0b1010\n",
    "c = a << 2\n",
    "print(bin(c))"
   ]
  },
  {
   "cell_type": "code",
   "execution_count": 18,
   "id": "084b00dd",
   "metadata": {},
   "outputs": [
    {
     "name": "stdout",
     "output_type": "stream",
     "text": [
      "0b101\n"
     ]
    }
   ],
   "source": [
    "'''\n",
    "The left operand’s value is moved toward left by the number of bits \n",
    "\n",
    "specified by the right operand.\n",
    "'''\n",
    "a = 0b1010\n",
    "c = a >> 1\n",
    "print(bin(c))"
   ]
  },
  {
   "cell_type": "markdown",
   "id": "4d2c7a8a",
   "metadata": {},
   "source": [
    "Q.5. Create a list containing int type data of length 15. Then write a code to check if 10 is\n",
    "present in the list or not."
   ]
  },
  {
   "cell_type": "code",
   "execution_count": 21,
   "id": "188cf2db",
   "metadata": {},
   "outputs": [
    {
     "name": "stdout",
     "output_type": "stream",
     "text": [
      "10 is present in list\n"
     ]
    }
   ],
   "source": [
    "data = [1,2,3,4,5,6,6,7,9,10,11,12,13,14,15]\n",
    "i = 10\n",
    "if i in data:\n",
    "    print(f\"{i} is present in list\")\n",
    "else:\n",
    "    print(f\"{i} is not present in list\")"
   ]
  },
  {
   "cell_type": "code",
   "execution_count": null,
   "id": "89879575",
   "metadata": {},
   "outputs": [],
   "source": []
  }
 ],
 "metadata": {
  "kernelspec": {
   "display_name": "Python 3 (ipykernel)",
   "language": "python",
   "name": "python3"
  },
  "language_info": {
   "codemirror_mode": {
    "name": "ipython",
    "version": 3
   },
   "file_extension": ".py",
   "mimetype": "text/x-python",
   "name": "python",
   "nbconvert_exporter": "python",
   "pygments_lexer": "ipython3",
   "version": "3.11.3"
  }
 },
 "nbformat": 4,
 "nbformat_minor": 5
}
