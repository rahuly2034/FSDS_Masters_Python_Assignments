{
 "cells": [
  {
   "cell_type": "markdown",
   "id": "47906b6a",
   "metadata": {},
   "source": [
    "# 1. Explain what inheritance is in object-oriented programming and why it is used."
   ]
  },
  {
   "cell_type": "markdown",
   "id": "42877a93",
   "metadata": {},
   "source": [
    "Inheritance allows programmers to create classes that are built upon existing classes, to specify a new implementation while maintaining the same behaviors (realizing an interface), to reuse code and to independently extend original software via public classes and interfaces."
   ]
  },
  {
   "cell_type": "code",
   "execution_count": 1,
   "id": "c3158ab5",
   "metadata": {},
   "outputs": [],
   "source": [
    "#Syntax - class Student(Rahul)"
   ]
  },
  {
   "cell_type": "markdown",
   "id": "2a5b78df",
   "metadata": {},
   "source": [
    "# 2. Discuss the concept of single inheritance and multiple inheritance, highlighting their differences and advantages."
   ]
  },
  {
   "cell_type": "raw",
   "id": "c1e05c84",
   "metadata": {},
   "source": [
    "Key Differences Between Single and Multiple Inheritance\n",
    "\n",
    "1. Single inheritance is one derived class having a single base class. On the contrary, multiple inheritance has two or more than two base classes, but single derived class.\n",
    "\n",
    "2. Multiple inheritance is quite confusing as here a single derived class inherit two or more base class. If the base classes have an attribute or function with the same name then for a derived class, it becomes difficult to identify which base class’s attribute or function it has to derive.\n",
    "\n",
    "3. Overhead issues are lesser in case of single inheritance. However, in the case of multiple inheritance the object construction or destruction invokes the constructors and destructor of the parent class in the class hierarchy, which increases the overhead.\n",
    "\n",
    "4. Single inheritance is more towards specialization. Conversely, multiple inheritance is more towards generalization.\n",
    "\n",
    "5. Due to less overhead in single inheritance it has less runtime than multiple inheritance."
   ]
  },
  {
   "cell_type": "markdown",
   "id": "9bed17a8",
   "metadata": {},
   "source": [
    "# 3. Explain the terms \"base class\" and \"derived class\" in the context of inheritance."
   ]
  },
  {
   "cell_type": "raw",
   "id": "dcd0413d",
   "metadata": {},
   "source": [
    "The class whose members are inherited is called the base class. The class that inherits the members of the base class is called the derived class."
   ]
  },
  {
   "cell_type": "code",
   "execution_count": 6,
   "id": "1bd87a34",
   "metadata": {},
   "outputs": [
    {
     "name": "stdout",
     "output_type": "stream",
     "text": [
      "Rahul Yadav\n",
      "Rahul Kumar\n"
     ]
    }
   ],
   "source": [
    "#Example - \n",
    "class Person:\n",
    "  def __init__(self, fname, lname):\n",
    "    self.firstname = fname\n",
    "    self.lastname = lname\n",
    "\n",
    "  def printname(self):\n",
    "    print(self.firstname, self.lastname)\n",
    "\n",
    "#Use the Person class to create an object, and then execute the printname method:\n",
    "\n",
    "x = Person(\"Rahul\", \"Yadav\")\n",
    "x.printname()\n",
    "\n",
    "class Student(Person):\n",
    "  pass\n",
    "\n",
    "x = Student(\"Rahul\", \"Kumar\")\n",
    "x.printname()\n",
    "\n",
    "\n",
    "# Here Person class is base class and Student is derived class"
   ]
  },
  {
   "cell_type": "markdown",
   "id": "2ff54493",
   "metadata": {},
   "source": [
    "\n",
    "# 4. What is the significance of the \"protected\" access modifier in inheritance? How does it differ from \"private\" and \"public\" modifiers?"
   ]
  },
  {
   "cell_type": "raw",
   "id": "cd648409",
   "metadata": {},
   "source": [
    "If the class member declared as public then it can be accessed everywhere. If the class members declared as protected then it can be accessed only within the class itself and by inheriting child classes. If the class members declared as private then it may only be accessed by the class that defines the member."
   ]
  },
  {
   "cell_type": "code",
   "execution_count": 7,
   "id": "f40402a4",
   "metadata": {},
   "outputs": [
    {
     "name": "stdout",
     "output_type": "stream",
     "text": [
      "Name: John\n",
      "Age: 20\n"
     ]
    }
   ],
   "source": [
    "#Public Example\n",
    "\n",
    "class Student:\n",
    "   def __init__(self, name, age):\n",
    "      self.name = name\n",
    "      self.age = age\n",
    "    \n",
    "   def display(self):\n",
    "      print(\"Name:\", self.name)\n",
    "      print(\"Age:\", self.age)\n",
    "\n",
    "s = Student(\"John\", 20)\n",
    "s.display()"
   ]
  },
  {
   "cell_type": "code",
   "execution_count": 8,
   "id": "c3859a04",
   "metadata": {},
   "outputs": [
    {
     "ename": "AttributeError",
     "evalue": "'BankAccount' object has no attribute '__display_balance'",
     "output_type": "error",
     "traceback": [
      "\u001b[1;31m---------------------------------------------------------------------------\u001b[0m",
      "\u001b[1;31mAttributeError\u001b[0m                            Traceback (most recent call last)",
      "Cell \u001b[1;32mIn[8], line 12\u001b[0m\n\u001b[0;32m      9\u001b[0m       \u001b[38;5;28mprint\u001b[39m(\u001b[38;5;124m\"\u001b[39m\u001b[38;5;124mBalance:\u001b[39m\u001b[38;5;124m\"\u001b[39m, \u001b[38;5;28mself\u001b[39m\u001b[38;5;241m.\u001b[39m__balance)\n\u001b[0;32m     11\u001b[0m b \u001b[38;5;241m=\u001b[39m BankAccount(\u001b[38;5;241m1234567890\u001b[39m, \u001b[38;5;241m5000\u001b[39m)\n\u001b[1;32m---> 12\u001b[0m \u001b[43mb\u001b[49m\u001b[38;5;241;43m.\u001b[39;49m\u001b[43m__display_balance\u001b[49m()\n",
      "\u001b[1;31mAttributeError\u001b[0m: 'BankAccount' object has no attribute '__display_balance'"
     ]
    }
   ],
   "source": [
    "#Private Example\n",
    "\n",
    "class BankAccount:\n",
    "   def __init__(self, account_number, balance):\n",
    "      self.__account_number = account_number\n",
    "      self.__balance = balance\n",
    "    \n",
    "   def __display_balance(self):\n",
    "      print(\"Balance:\", self.__balance)\n",
    "\n",
    "b = BankAccount(1234567890, 5000)\n",
    "b.__display_balance()"
   ]
  },
  {
   "cell_type": "markdown",
   "id": "3c6f5299",
   "metadata": {},
   "source": [
    "# 5. What is the purpose of the \"super\" keyword in inheritance? Provide an example."
   ]
  },
  {
   "cell_type": "raw",
   "id": "680899af",
   "metadata": {},
   "source": [
    "The super keyword refers to superclass (parent) objects. It is used to call superclass methods, and to access the superclass constructor. The most common use of the super keyword is to eliminate the confusion between superclasses and subclasses that have methods with the same name."
   ]
  },
  {
   "cell_type": "code",
   "execution_count": 10,
   "id": "a61ce1a2",
   "metadata": {},
   "outputs": [
    {
     "name": "stdout",
     "output_type": "stream",
     "text": [
      "The ID is: 103\n",
      "The Name is: Rahul Yadav\n",
      "The Address is: Noida\n",
      "The Emails is: KKK@gmails\n"
     ]
    }
   ],
   "source": [
    "class Emp():\n",
    "\tdef __init__(self, id, name, Add):\n",
    "\t\tself.id = id\n",
    "\t\tself.name = name\n",
    "\t\tself.Add = Add\n",
    "\n",
    "# Class freelancer inherits EMP\n",
    "class Freelance(Emp):\n",
    "\tdef __init__(self, id, name, Add, Emails):\n",
    "\t\tsuper().__init__(id, name, Add)\n",
    "\t\tself.Emails = Emails\n",
    "\n",
    "Emp_1 = Freelance(103, \"Rahul Yadav\", \"Noida\" , \"KKK@gmails\")\n",
    "print('The ID is:', Emp_1.id)\n",
    "print('The Name is:', Emp_1.name)\n",
    "print('The Address is:', Emp_1.Add)\n",
    "print('The Emails is:', Emp_1.Emails)\n"
   ]
  },
  {
   "cell_type": "raw",
   "id": "ea075c87",
   "metadata": {},
   "source": [
    "6. Create a base class called \"Vehicle\" with attributes like \"make\", \"model\", and \"year\".\n",
    "Then, create a derived class called \"Car\" that inherits from \"Vehicle\" and adds an\n",
    "attribute called \"fuel_type\". Implement appropriate methods in both classes."
   ]
  },
  {
   "cell_type": "code",
   "execution_count": 18,
   "id": "a0f7f370",
   "metadata": {},
   "outputs": [],
   "source": [
    "class Vehicle:\n",
    "    def __init__(self,make,model,year):\n",
    "        self.make=make\n",
    "        self.model=model\n",
    "        self.year=year\n",
    "        \n",
    "class Car(Vehicle):\n",
    "    def __init__(self,make,model,year,fuel_type):\n",
    "        super().__init__(make,model,year)\n",
    "        self.fuel_type = fuel_type"
   ]
  },
  {
   "cell_type": "code",
   "execution_count": 19,
   "id": "cf25d362",
   "metadata": {},
   "outputs": [],
   "source": [
    "bmw = Car(\"Germany\",\"BMW X7\",2020,\"Petrol\")"
   ]
  },
  {
   "cell_type": "code",
   "execution_count": 20,
   "id": "887c1a90",
   "metadata": {},
   "outputs": [
    {
     "name": "stdout",
     "output_type": "stream",
     "text": [
      "Car made in : Germany\n",
      "Model :  BMW X7\n",
      "Launch Year : 2020\n",
      "Fuel Type :  Petrol\n"
     ]
    }
   ],
   "source": [
    "print('Car made in :',bmw.make)\n",
    "print('Model : ',bmw.model)\n",
    "print('Launch Year :',bmw.year)\n",
    "print('Fuel Type : ',bmw.fuel_type)"
   ]
  },
  {
   "cell_type": "markdown",
   "id": "136050f4",
   "metadata": {},
   "source": [
    "# 7. Create a base class called \"Employee\" with attributes like \"name\" and \"salary.\" Derive two classes, \"Manager\" and \"Developer,\" from \"Employee.\" Add an additional attribute called \"department\" for the \"Manager\" class and \"programming_language\" for the \"Developer\" class."
   ]
  },
  {
   "cell_type": "code",
   "execution_count": 42,
   "id": "aa196345",
   "metadata": {},
   "outputs": [],
   "source": [
    "class Employee:\n",
    "    def __init__(self,name,salary):\n",
    "        self.name=name\n",
    "        self.salary=salary\n",
    "        \n",
    "class Manager(Employee):\n",
    "    def __init__(self,name,salary,department):\n",
    "        super().__init__(name,salary)\n",
    "        self.department=department\n",
    "        \n",
    "class Developer(Employee):\n",
    "    def __init__(self,name,salary,programming_language):\n",
    "        super().__init__(name,salary)\n",
    "        self.programming_language=programming_language"
   ]
  },
  {
   "cell_type": "code",
   "execution_count": 43,
   "id": "1b748c7d",
   "metadata": {},
   "outputs": [],
   "source": [
    "mang = Manager(\"Rahul\",45000,\"IT\")"
   ]
  },
  {
   "cell_type": "code",
   "execution_count": 44,
   "id": "5fb59961",
   "metadata": {},
   "outputs": [
    {
     "name": "stdout",
     "output_type": "stream",
     "text": [
      "Manager Name : Rahul\n",
      "Salary :  45000\n",
      "Department : IT\n"
     ]
    }
   ],
   "source": [
    "print('Manager Name :',mang.name)\n",
    "print('Salary : ',mang.salary)\n",
    "print('Department :',mang.department)\n"
   ]
  },
  {
   "cell_type": "code",
   "execution_count": 45,
   "id": "9740211f",
   "metadata": {},
   "outputs": [],
   "source": [
    "dvlpr = Developer(\"Raj\",30000,\"Python\")"
   ]
  },
  {
   "cell_type": "code",
   "execution_count": 46,
   "id": "457ca3e9",
   "metadata": {},
   "outputs": [
    {
     "name": "stdout",
     "output_type": "stream",
     "text": [
      "Manager Name : Raj\n",
      "Salary :  30000\n",
      "Working On Python Language\n"
     ]
    }
   ],
   "source": [
    "print('Manager Name :',dvlpr.name)\n",
    "print('Salary : ',dvlpr.salary)\n",
    "print(f'Working On {dvlpr.programming_language} Language')"
   ]
  },
  {
   "cell_type": "markdown",
   "id": "b5316976",
   "metadata": {},
   "source": [
    "# 8. Design a base class called \"Shape\" with attributes like \"colour\" and \"border_width.\" Create derived classes, \"Rectangle\" and \"Circle,\" that inherit from \"Shape\" and add specific attributes like \"length\" and \"width\" for the \"Rectangle\" class and \"radius\" for the \"Circle\" class."
   ]
  },
  {
   "cell_type": "code",
   "execution_count": 56,
   "id": "c3895d59",
   "metadata": {},
   "outputs": [
    {
     "name": "stdout",
     "output_type": "stream",
     "text": [
      "Colour: Red\n",
      "Border Width: 2\n",
      "Length: 10\n",
      "Width: 5\n",
      "\n",
      "\n",
      "Colour: Blue\n",
      "Border Width: 1\n",
      "Radius: 7\n"
     ]
    }
   ],
   "source": [
    "#Solution to Question 8:\n",
    "class Shape:\n",
    "    def __init__(self, colour, border_width):\n",
    "        self.colour = colour\n",
    "        self.border_width = border_width\n",
    "\n",
    "    def display_info(self):\n",
    "        print(\"Colour:\", self.colour)\n",
    "        print(\"Border Width:\", self.border_width)\n",
    "\n",
    "\n",
    "class Rectangle(Shape):\n",
    "    def __init__(self, colour, border_width, length, width):\n",
    "        super().__init__(colour, border_width)\n",
    "        self.length = length\n",
    "        self.width = width\n",
    "\n",
    "    def display_info(self):\n",
    "        super().display_info()\n",
    "        print(\"Length:\", self.length)\n",
    "        print(\"Width:\", self.width)\n",
    "\n",
    "\n",
    "class Circle(Shape):\n",
    "    def __init__(self, colour, border_width, radius):\n",
    "        super().__init__(colour, border_width)\n",
    "        self.radius = radius\n",
    "\n",
    "    def display_info(self):\n",
    "        super().display_info()\n",
    "        print(\"Radius:\", self.radius)\n",
    "\n",
    "\n",
    "# Creating instances of Rectangle and Circle classes\n",
    "rectangle = Rectangle(\"Red\", 2, 10, 5)\n",
    "circle = Circle(\"Blue\", 1, 7)\n",
    "\n",
    "# Calling display_info method for Rectangle and Circle instances\n",
    "rectangle.display_info()\n",
    "print(\"\\n\")\n",
    "circle.display_info()"
   ]
  },
  {
   "cell_type": "markdown",
   "id": "7b3151ec",
   "metadata": {},
   "source": [
    "# 9. Create a base class called \"Device\" with attributes like \"brand\" and \"model.\" Derive two classes, \"Phone\" and \"Tablet,\" from \"Device.\" Add specific attributes like \"screen_size\" for the \"Phone\" class and \"battery_capacity\" for the \"Tablet\" class."
   ]
  },
  {
   "cell_type": "code",
   "execution_count": 82,
   "id": "7f6675f1",
   "metadata": {},
   "outputs": [],
   "source": [
    "class Device:\n",
    "    def __init__(self,brand,model):\n",
    "        self.brand = brand\n",
    "        self.model = model\n",
    "        \n",
    "    def display(self):\n",
    "        print(f\"Brand : self.brand\")\n",
    "        print(f\"Model : self.model\")\n",
    "    \n",
    "class Phone(Device):\n",
    "    def __init__(self,brand,model,screen_size):\n",
    "        super().__init__(brand,model)\n",
    "        self.screen_size=screen_size\n",
    "        \n",
    "    def display(self):\n",
    "        super().display()\n",
    "        print(f\"Screen Size : {self.screen_size}\")\n",
    "        \n",
    "class Tablet(Device):\n",
    "    def __init__(self,brand,model,battery_capacity):\n",
    "        super().__init__(brand,model)\n",
    "        self.battery_capacity=battery_capacity\n",
    "        \n",
    "    def display(self):\n",
    "        super().display()\n",
    "        print(f\"Battery Capacity : {self.battery_capacity}\")"
   ]
  },
  {
   "cell_type": "code",
   "execution_count": 83,
   "id": "82588647",
   "metadata": {},
   "outputs": [],
   "source": [
    "mi = Phone('MI','Note 7 Pro','6:4')"
   ]
  },
  {
   "cell_type": "code",
   "execution_count": 84,
   "id": "ef1da435",
   "metadata": {},
   "outputs": [
    {
     "name": "stdout",
     "output_type": "stream",
     "text": [
      "Brand : self.brand\n",
      "Model : self.model\n",
      "Screen Size : 6:4\n"
     ]
    }
   ],
   "source": [
    "mi.display()"
   ]
  },
  {
   "cell_type": "code",
   "execution_count": 85,
   "id": "f41acddb",
   "metadata": {},
   "outputs": [],
   "source": [
    "samsung = Tablet('Samsung','Note 11','7 inches')"
   ]
  },
  {
   "cell_type": "code",
   "execution_count": 86,
   "id": "3d8fa42e",
   "metadata": {},
   "outputs": [
    {
     "name": "stdout",
     "output_type": "stream",
     "text": [
      "Brand : self.brand\n",
      "Model : self.model\n",
      "Battery Capacity : 7 inches\n"
     ]
    }
   ],
   "source": [
    "samsung.display()"
   ]
  },
  {
   "cell_type": "markdown",
   "id": "f40f9be1",
   "metadata": {},
   "source": [
    "# 10. Create a base class called \"BankAccount\" with attributes like \"account_number\" and \"balance.\" Derive two classes, \"SavingsAccount\" and \"CheckingAccount,\" from \"BankAccount.\" Add specific methods like \"calculate_interest\" for the \"SavingsAccount\" class and \"deduct_fees\" for the \"CheckingAccount\" class."
   ]
  },
  {
   "cell_type": "code",
   "execution_count": 35,
   "id": "0265f221",
   "metadata": {},
   "outputs": [
    {
     "name": "stdout",
     "output_type": "stream",
     "text": [
      "Account Number: 9900436357\n",
      "Balance: 50000\n",
      "\n",
      "\n",
      "Account Number: 9886236550\n",
      "Balance: 30000\n",
      "\n",
      "\n",
      "Interest calculated. New balance: 52500.0\n",
      "Fees deducted. New balance: 29950\n"
     ]
    }
   ],
   "source": [
    "# Solution to question 10:\n",
    "class BankAccount:\n",
    "    def __init__(self, account_number, balance):\n",
    "        self.account_number = account_number\n",
    "        self.balance = balance\n",
    "\n",
    "    def display_info(self):\n",
    "        print(\"Account Number:\", self.account_number)\n",
    "        print(\"Balance:\", self.balance)\n",
    "\n",
    "\n",
    "class SavingsAccount(BankAccount):\n",
    "    def calculate_interest(self, interest_rate):\n",
    "        interest = self.balance * interest_rate\n",
    "        self.balance += interest\n",
    "        print(\"Interest calculated. New balance:\", self.balance)\n",
    "\n",
    "\n",
    "class CheckingAccount(BankAccount):\n",
    "    def deduct_fees(self, fee_amount):\n",
    "        self.balance -= fee_amount\n",
    "        print(\"Fees deducted. New balance:\", self.balance)\n",
    "\n",
    "\n",
    "# Creating instances of SavingsAccount and CheckingAccount classes\n",
    "savings_account = SavingsAccount(\"9900436357\", 50000)\n",
    "checking_account = CheckingAccount(\"9886236550\", 30000)\n",
    "\n",
    "# Calling display_info method for SavingsAccount and CheckingAccount instances\n",
    "savings_account.display_info()\n",
    "print(\"\\n\")\n",
    "checking_account.display_info()\n",
    "print(\"\\n\")\n",
    "\n",
    "# Calling calculate_interest method for SavingsAccount instance\n",
    "savings_account.calculate_interest(0.05)\n",
    "\n",
    "# Calling deduct_fees method for CheckingAccount instance\n",
    "checking_account.deduct_fees(50)"
   ]
  },
  {
   "cell_type": "code",
   "execution_count": null,
   "id": "6b54f0e7",
   "metadata": {},
   "outputs": [],
   "source": []
  },
  {
   "cell_type": "code",
   "execution_count": null,
   "id": "e8316884",
   "metadata": {},
   "outputs": [],
   "source": []
  },
  {
   "cell_type": "code",
   "execution_count": null,
   "id": "1f39ce12",
   "metadata": {},
   "outputs": [],
   "source": []
  },
  {
   "cell_type": "code",
   "execution_count": null,
   "id": "c3e172be",
   "metadata": {},
   "outputs": [],
   "source": []
  }
 ],
 "metadata": {
  "kernelspec": {
   "display_name": "Python 3 (ipykernel)",
   "language": "python",
   "name": "python3"
  },
  "language_info": {
   "codemirror_mode": {
    "name": "ipython",
    "version": 3
   },
   "file_extension": ".py",
   "mimetype": "text/x-python",
   "name": "python",
   "nbconvert_exporter": "python",
   "pygments_lexer": "ipython3",
   "version": "3.11.3"
  }
 },
 "nbformat": 4,
 "nbformat_minor": 5
}
