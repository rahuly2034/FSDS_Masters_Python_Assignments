{
 "cells": [
  {
   "cell_type": "markdown",
   "id": "59b503e0",
   "metadata": {},
   "source": [
    "Q.1. What are keywords in python? Using the keyword library, print all the python keywords."
   ]
  },
  {
   "cell_type": "markdown",
   "id": "ed11d3fa",
   "metadata": {},
   "source": [
    "Every programming language has special reserved words, or keywords, that have specific meanings and restrictions around how they should be used. Python is no different. Python keywords are the fundamental building blocks of any Python program."
   ]
  },
  {
   "cell_type": "code",
   "execution_count": 4,
   "id": "9110d6e7",
   "metadata": {},
   "outputs": [
    {
     "data": {
      "text/plain": [
       "['False',\n",
       " 'None',\n",
       " 'True',\n",
       " 'and',\n",
       " 'as',\n",
       " 'assert',\n",
       " 'async',\n",
       " 'await',\n",
       " 'break',\n",
       " 'class',\n",
       " 'continue',\n",
       " 'def',\n",
       " 'del',\n",
       " 'elif',\n",
       " 'else',\n",
       " 'except',\n",
       " 'finally',\n",
       " 'for',\n",
       " 'from',\n",
       " 'global',\n",
       " 'if',\n",
       " 'import',\n",
       " 'in',\n",
       " 'is',\n",
       " 'lambda',\n",
       " 'nonlocal',\n",
       " 'not',\n",
       " 'or',\n",
       " 'pass',\n",
       " 'raise',\n",
       " 'return',\n",
       " 'try',\n",
       " 'while',\n",
       " 'with',\n",
       " 'yield']"
      ]
     },
     "execution_count": 4,
     "metadata": {},
     "output_type": "execute_result"
    }
   ],
   "source": [
    "import keyword\n",
    "keyword. kwlist"
   ]
  },
  {
   "cell_type": "markdown",
   "id": "e691c9c7",
   "metadata": {},
   "source": [
    "Q.2. What are the rules to create variables in python?"
   ]
  },
  {
   "cell_type": "markdown",
   "id": "70fe2487",
   "metadata": {},
   "source": [
    "Rules for Python variables:\n",
    "A variable name must start with a letter or the underscore character.\n",
    "A variable name cannot start with a number.\n",
    "A variable name can only contain alpha-numeric characters and underscores (A-z, 0-9, and _ )\n",
    "Variable names are case-sensitive (age, Age and AGE are three different variables)\n"
   ]
  },
  {
   "cell_type": "markdown",
   "id": "0a664945",
   "metadata": {},
   "source": [
    "Q.3. What are the standards and conventions followed for the nomenclature of variables in\n",
    "python to improve code readability and maintainability?"
   ]
  },
  {
   "cell_type": "markdown",
   "id": "17d334b8",
   "metadata": {},
   "source": [
    "Use grammatically correct variable names, the class name should start with an uppercase and must follow camelCase convention If more than two words are to be used. In the same way, a function name should be joined with an underscore, and it must be lowercase"
   ]
  },
  {
   "cell_type": "markdown",
   "id": "380c9ff0",
   "metadata": {},
   "source": [
    "Q.4. What will happen if a keyword is used as a variable name?"
   ]
  },
  {
   "cell_type": "markdown",
   "id": "683d33f1",
   "metadata": {},
   "source": [
    "we cannot use them as a variable as we cannot assign any value to them.If we use getting an error cannot assign to whatever you use as variable name."
   ]
  },
  {
   "cell_type": "code",
   "execution_count": 9,
   "id": "4961d83a",
   "metadata": {},
   "outputs": [
    {
     "ename": "SyntaxError",
     "evalue": "cannot assign to False (3119226018.py, line 1)",
     "output_type": "error",
     "traceback": [
      "\u001b[1;36m  Cell \u001b[1;32mIn[9], line 1\u001b[1;36m\u001b[0m\n\u001b[1;33m    False = \"rahul\"\u001b[0m\n\u001b[1;37m    ^\u001b[0m\n\u001b[1;31mSyntaxError\u001b[0m\u001b[1;31m:\u001b[0m cannot assign to False\n"
     ]
    }
   ],
   "source": [
    "False = \"rahul\""
   ]
  },
  {
   "cell_type": "markdown",
   "id": "4873fc75",
   "metadata": {},
   "source": [
    "Q.5. For what purpose def keyword is used?"
   ]
  },
  {
   "cell_type": "markdown",
   "id": "67c5f003",
   "metadata": {},
   "source": [
    "The def keyword is used to create, (or define) a function."
   ]
  },
  {
   "cell_type": "markdown",
   "id": "de2f40f7",
   "metadata": {},
   "source": [
    "Q.6. What is the operation of this special character ‘\\’?"
   ]
  },
  {
   "cell_type": "markdown",
   "id": "8972ded2",
   "metadata": {},
   "source": [
    "This is Backslash it can separates locations in a file or network path."
   ]
  },
  {
   "cell_type": "markdown",
   "id": "e107d35c",
   "metadata": {},
   "source": [
    "Q.7. Give an example of the following conditions:\n",
    "(i) Homogeneous list\n",
    "(ii) Heterogeneous set\n",
    "(iii) Homogeneous tuple"
   ]
  },
  {
   "cell_type": "code",
   "execution_count": 14,
   "id": "190e788c",
   "metadata": {},
   "outputs": [
    {
     "data": {
      "text/plain": [
       "['Anna Karenina by Leo Tolstoy',\n",
       " '. Madame Bovary by Gustave Flaubert',\n",
       " 'War and Peace by Leo Tolstoy',\n",
       " 'War and Peace by Leo Tolstoy']"
      ]
     },
     "execution_count": 14,
     "metadata": {},
     "output_type": "execute_result"
    }
   ],
   "source": [
    "#List of 4 best book name\n",
    "#Homogeneous List\n",
    "books = [\"Anna Karenina by Leo Tolstoy\",\". Madame Bovary by Gustave Flaubert\",\"War and Peace by Leo Tolstoy\",\"War and Peace by Leo Tolstoy\"]\n",
    "books"
   ]
  },
  {
   "cell_type": "code",
   "execution_count": 15,
   "id": "bbaa33b7",
   "metadata": {},
   "outputs": [
    {
     "data": {
      "text/plain": [
       "{1, 2, 3, 'priya', 'rahul', 'teena'}"
      ]
     },
     "execution_count": 15,
     "metadata": {},
     "output_type": "execute_result"
    }
   ],
   "source": [
    "#Heterogeneous set\n",
    "set_1 = {1,2,3,\"rahul\",\"priya\",\"teena\"}\n",
    "set_1"
   ]
  },
  {
   "cell_type": "code",
   "execution_count": 16,
   "id": "6e6ee3a3",
   "metadata": {},
   "outputs": [
    {
     "data": {
      "text/plain": [
       "('Anna Karenina by Leo Tolstoy',\n",
       " '. Madame Bovary by Gustave Flaubert',\n",
       " 'War and Peace by Leo Tolstoy')"
      ]
     },
     "execution_count": 16,
     "metadata": {},
     "output_type": "execute_result"
    }
   ],
   "source": [
    "#Homogeneous tuple\n",
    "updated_books = (\"Anna Karenina by Leo Tolstoy\",\". Madame Bovary by Gustave Flaubert\",\"War and Peace by Leo Tolstoy\")\n",
    "updated_books"
   ]
  },
  {
   "cell_type": "markdown",
   "id": "67cbbc19",
   "metadata": {},
   "source": [
    "Q.8. Explain the mutable and immutable data types with proper explanation & examples."
   ]
  },
  {
   "cell_type": "markdown",
   "id": "3a20660d",
   "metadata": {},
   "source": [
    "Mutable objects are those that allow you to change their value or data in place without affecting the object's identity. In contrast, immutable objects don't allow this kind of operation. \n",
    "\n",
    "In python -\n",
    "Immutable Objects are of in-built datatypes like int, float, bool, string, Unicode, and tuple.\n"
   ]
  },
  {
   "cell_type": "code",
   "execution_count": 17,
   "id": "b966361f",
   "metadata": {},
   "outputs": [
    {
     "ename": "TypeError",
     "evalue": "'tuple' object does not support item assignment",
     "output_type": "error",
     "traceback": [
      "\u001b[1;31m---------------------------------------------------------------------------\u001b[0m",
      "\u001b[1;31mTypeError\u001b[0m                                 Traceback (most recent call last)",
      "Cell \u001b[1;32mIn[17], line 5\u001b[0m\n\u001b[0;32m      1\u001b[0m \u001b[38;5;66;03m# Python code to test that\u001b[39;00m\n\u001b[0;32m      2\u001b[0m \u001b[38;5;66;03m# tuples are immutable\u001b[39;00m\n\u001b[0;32m      4\u001b[0m tuple1 \u001b[38;5;241m=\u001b[39m (\u001b[38;5;241m0\u001b[39m, \u001b[38;5;241m1\u001b[39m, \u001b[38;5;241m2\u001b[39m, \u001b[38;5;241m3\u001b[39m)\n\u001b[1;32m----> 5\u001b[0m \u001b[43mtuple1\u001b[49m\u001b[43m[\u001b[49m\u001b[38;5;241;43m0\u001b[39;49m\u001b[43m]\u001b[49m \u001b[38;5;241m=\u001b[39m \u001b[38;5;241m4\u001b[39m\n\u001b[0;32m      6\u001b[0m \u001b[38;5;28mprint\u001b[39m(tuple1)\n",
      "\u001b[1;31mTypeError\u001b[0m: 'tuple' object does not support item assignment"
     ]
    }
   ],
   "source": [
    "# Python code to test that\n",
    "# tuples are immutable\n",
    "\n",
    "tuple1 = (0, 1, 2, 3)\n",
    "tuple1[0] = 4\n",
    "print(tuple1)\n"
   ]
  },
  {
   "cell_type": "markdown",
   "id": "7a6bc933",
   "metadata": {},
   "source": [
    "Mutable Objects are of type list, dict, or set. Custom classes are generally mutable. "
   ]
  },
  {
   "cell_type": "code",
   "execution_count": 18,
   "id": "b2b870c5",
   "metadata": {},
   "outputs": [
    {
     "name": "stdout",
     "output_type": "stream",
     "text": [
      "['red', 'blue', 'green']\n",
      "['pink', 'blue', 'orange']\n"
     ]
    }
   ],
   "source": [
    "# Python code to test that\n",
    "# lists are mutable\n",
    "color = [\"red\", \"blue\", \"green\"]\n",
    "print(color)\n",
    "\n",
    "color[0] = \"pink\"\n",
    "color[-1] = \"orange\"\n",
    "print(color)\n"
   ]
  },
  {
   "cell_type": "markdown",
   "id": "e02be6f9",
   "metadata": {},
   "source": [
    "Q.9. Write a code to create the given structure using only for loop.\n",
    "*\n",
    "***\n",
    "*****\n",
    "*******\n",
    "*********"
   ]
  },
  {
   "cell_type": "code",
   "execution_count": 25,
   "id": "34153df8",
   "metadata": {},
   "outputs": [
    {
     "name": "stdout",
     "output_type": "stream",
     "text": [
      "     *\n",
      "    ***\n",
      "   *****\n",
      "  *******\n",
      " *********\n"
     ]
    }
   ],
   "source": [
    "for i in range(5):\n",
    "    for j in range(5-i):\n",
    "        print(\" \",end=\"\")\n",
    "    for k in range(2*i+1):\n",
    "        print(\"*\",end=\"\")\n",
    "    print()"
   ]
  },
  {
   "cell_type": "markdown",
   "id": "a5405d36",
   "metadata": {},
   "source": [
    "Q.10. Write a code to create the given structure using while loop.\n",
    "|||||||||\n",
    "|||||||\n",
    "|||||\n",
    "|||\n",
    "|"
   ]
  },
  {
   "cell_type": "code",
   "execution_count": 36,
   "id": "e198b584",
   "metadata": {},
   "outputs": [
    {
     "name": "stdout",
     "output_type": "stream",
     "text": [
      "|||||||||\n",
      " |||||||\n",
      "  |||||\n",
      "   |||\n",
      "    |\n"
     ]
    }
   ],
   "source": [
    "n=5\n",
    "for i in range(n):\n",
    "    for j in range(i):\n",
    "        print(\" \",end=\"\")\n",
    "    for k in range(2*n-1-2*i):\n",
    "        print(\"|\",end=\"\")\n",
    "    print()"
   ]
  },
  {
   "cell_type": "code",
   "execution_count": null,
   "id": "67bb154f",
   "metadata": {},
   "outputs": [],
   "source": []
  }
 ],
 "metadata": {
  "kernelspec": {
   "display_name": "Python 3 (ipykernel)",
   "language": "python",
   "name": "python3"
  },
  "language_info": {
   "codemirror_mode": {
    "name": "ipython",
    "version": 3
   },
   "file_extension": ".py",
   "mimetype": "text/x-python",
   "name": "python",
   "nbconvert_exporter": "python",
   "pygments_lexer": "ipython3",
   "version": "3.11.3"
  }
 },
 "nbformat": 4,
 "nbformat_minor": 5
}
