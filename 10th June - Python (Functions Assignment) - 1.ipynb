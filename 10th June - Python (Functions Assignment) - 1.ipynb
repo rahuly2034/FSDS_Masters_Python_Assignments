{
 "cells": [
  {
   "cell_type": "markdown",
   "id": "fb89ac8e",
   "metadata": {},
   "source": [
    "1. In Python, what is the difference between a built-in function and a user-defined function? Provide an\n",
    "example of each."
   ]
  },
  {
   "cell_type": "markdown",
   "id": "dd70c1a7",
   "metadata": {},
   "source": [
    "Functions that readily comes with Python are called built-in functions. Python provides built-in functions like print(), etc. but we can also create your own functions. These functions are known as user defines functions."
   ]
  },
  {
   "cell_type": "code",
   "execution_count": 2,
   "id": "6b62688f",
   "metadata": {},
   "outputs": [
    {
     "name": "stdout",
     "output_type": "stream",
     "text": [
      "Rahul\n"
     ]
    }
   ],
   "source": [
    "# User Defined Function\n",
    "def my_own_function():\n",
    "    print(\"Rahul\")\n",
    "my_own_function()"
   ]
  },
  {
   "cell_type": "markdown",
   "id": "0ae7b9fa",
   "metadata": {},
   "source": [
    "2. How can you pass arguments to a function in Python? Explain the difference between positional\n",
    "arguments and keyword arguments."
   ]
  },
  {
   "cell_type": "code",
   "execution_count": 3,
   "id": "9d98eed1",
   "metadata": {},
   "outputs": [
    {
     "name": "stdout",
     "output_type": "stream",
     "text": [
      "3\n"
     ]
    }
   ],
   "source": [
    "#. Arguments are specified after the function name, inside the parentheses. \n",
    "def sum_of_number(a,b):\n",
    "    c = a + b\n",
    "    print(c)\n",
    "sum_of_number(1,2)"
   ]
  },
  {
   "cell_type": "code",
   "execution_count": 4,
   "id": "61e18080",
   "metadata": {},
   "outputs": [
    {
     "data": {
      "text/plain": [
       "'\\nKeyword-Only Argument - Parameter Names are used to pass the argument during the function call.\\n\\nSyntax : – FunctionName(paramName = value, ...)\\n\\nPositional-Only Argument - Arguments are passed in the order of parameters. The order defined in the order function declaration.\\n\\nSyntax :-FunctionName(value1, value2, value3,....)\\n'"
      ]
     },
     "execution_count": 4,
     "metadata": {},
     "output_type": "execute_result"
    }
   ],
   "source": [
    "#the difference between positional arguments and keyword arguments.\n",
    "'''\n",
    "Keyword-Only Argument - Parameter Names are used to pass the argument during the function call.\n",
    "\n",
    "Syntax : – FunctionName(paramName = value, ...)\n",
    "\n",
    "Positional-Only Argument - Arguments are passed in the order of parameters. The order defined in the order function declaration.\n",
    "\n",
    "Syntax :-FunctionName(value1, value2, value3,....)\n",
    "'''"
   ]
  },
  {
   "cell_type": "markdown",
   "id": "d242254d",
   "metadata": {},
   "source": [
    "# 3. What is the purpose of the return statement in a function? Can a function have multiple return statements? Explain with an example."
   ]
  },
  {
   "cell_type": "markdown",
   "id": "de41727e",
   "metadata": {},
   "source": [
    "The `return` statement in a function serves the purpose of specifying the value that the function should produce as its result. It allows the function to pass data back to the caller or to terminate the function's execution prematurely. When a `return` statement is encountered in a function, the function immediately exits, and the value specified in the `return` statement is returned to the caller.\n",
    "A function can indeed have multiple `return` statements, although only one `return` statement is executed during a single function call. Once a `return` statement is executed, the function terminates, and the value specified in the `return` statement is returned to the caller. Any subsequent `return` statements in the function are ignored.\n",
    "Here's an example to illustrate the concept:"
   ]
  },
  {
   "cell_type": "code",
   "execution_count": 5,
   "id": "2c71d9d8",
   "metadata": {},
   "outputs": [
    {
     "name": "stdout",
     "output_type": "stream",
     "text": [
      "5\n",
      "8\n"
     ]
    }
   ],
   "source": [
    "def absolute_value(number):\n",
    "    if number >= 0:\n",
    "        return number\n",
    "    else:\n",
    "        return -number\n",
    "result1 = absolute_value(5)\n",
    "print(result1)  # Output: 5\n",
    "\n",
    "result2 = absolute_value(-8)\n",
    "print(result2)  # Output: 8"
   ]
  },
  {
   "cell_type": "markdown",
   "id": "40cae65e",
   "metadata": {},
   "source": [
    "In the above example, the `absolute_value()` function takes a number as an argument and checks whether it is greater than or equal to zero. If the number is non-negative, the function immediately returns the number itself using the `return` statement (`return number`). If the number is negative, the function executes the `else` block and returns the negated value of the number (`return -number`).\n",
    "When calling the `absolute_value()` function with `5` as an argument, the function encounters the first `return` statement, and the value `5` is returned. The returned value is then stored in the `result1` variable and printed.\n",
    "Similarly, when calling the function with `-8` as an argument, the function executes the `else` block and encounters the `return` statement that returns the value `-8`. The returned value is stored in the `result2` variable and printed. Note that once a `return` statement is executed, the function immediately exits, and any subsequent code in the function is not executed."
   ]
  },
  {
   "cell_type": "markdown",
   "id": "4a0e7fe0",
   "metadata": {},
   "source": [
    "#  4.\tWhat are lambda functions in Python? How are they different from regular functions? Provide an \texample where a lambda function can be useful. "
   ]
  },
  {
   "cell_type": "markdown",
   "id": "11350a79",
   "metadata": {},
   "source": [
    "Lambda functions, also known as anonymous functions, are a way to create small, one-line functions in Python. They are defined using the `lambda` keyword, followed by a set of parameters, a colon, and an expression. Lambda functions are typically used for simple, one-time operations where creating a named function using `def` would be unnecessary.\n",
    "The main differences between lambda functions and regular functions are:\n",
    "1. Syntax: Lambda functions are defined using the `lambda` keyword and are written as a single line of code. Regular functions are defined using the `def` keyword and can span multiple lines.\n",
    "2. Function Name: Lambda functions are anonymous, meaning they do not have a name associated with them. They are usually assigned to a variable or used as an argument within other functions. Regular functions have a name by which they can be called.\n",
    "Here's an example where a lambda function can be useful. Let's say you have a list of numbers and you want to sort them based on their absolute values:\n",
    "numbers = [-5, -2, 0, 3, -1, 4]\n",
    "sorted_numbers = sorted(numbers, key=lambda x: abs(x))\n",
    "print(sorted_numbers)  # Output: [0, -1, -2, 3, 4, -5]\n",
    "In the above example, the `sorted()` function is used to sort the `numbers` list. The `key` parameter specifies a function that calculates the sorting criterion. Instead of defining a regular function using `def`, a lambda function is used as the sorting criterion. The lambda function `lambda x: abs(x)` takes a single parameter `x` and returns the absolute value of `x`. This lambda function is passed as the `key` argument to the `sorted()` function, which sorts the numbers based on their absolute values.\n",
    "Lambda functions are useful in situations where you need a short, one-time function without the need to define a regular function separately. They are commonly used with higher-order functions like `map()`, `filter()`, and `reduce()`, where a simple function is required as an argument."
   ]
  },
  {
   "cell_type": "markdown",
   "id": "61d76a46",
   "metadata": {},
   "source": [
    "# 5.\tHow does the concept of \"scope\" apply to functions in Python? Explain the difference between local \tscope and global scope. "
   ]
  },
  {
   "cell_type": "markdown",
   "id": "3c90aff2",
   "metadata": {},
   "source": [
    "The concept of \"scope\" refers to the visibility and accessibility of variables within different parts of a program. The scope determines where a variable can be accessed and how long it remains available for use. In Python, there are two main scopes to consider: local scope and global scope.\n",
    "1. Local Scope:\n",
    "Variables defined within a function have local scope. They are accessible only within the specific function where they are defined. Local variables exist and retain their values only during the execution of the function. Once the function execution is complete, local variables are destroyed. Local variables cannot be accessed from outside the function. Here's an example to illustrate local scope:"
   ]
  },
  {
   "cell_type": "code",
   "execution_count": 6,
   "id": "ffa816cf",
   "metadata": {},
   "outputs": [
    {
     "name": "stdout",
     "output_type": "stream",
     "text": [
      "10\n"
     ]
    },
    {
     "ename": "NameError",
     "evalue": "name 'x' is not defined",
     "output_type": "error",
     "traceback": [
      "\u001b[1;31m---------------------------------------------------------------------------\u001b[0m",
      "\u001b[1;31mNameError\u001b[0m                                 Traceback (most recent call last)",
      "Cell \u001b[1;32mIn[6], line 5\u001b[0m\n\u001b[0;32m      3\u001b[0m     \u001b[38;5;28mprint\u001b[39m(x)  \u001b[38;5;66;03m# Output: 10\u001b[39;00m\n\u001b[0;32m      4\u001b[0m my_function()\n\u001b[1;32m----> 5\u001b[0m \u001b[38;5;28mprint\u001b[39m(\u001b[43mx\u001b[49m)  \u001b[38;5;66;03m# Error: NameError: name 'x' is not defined\u001b[39;00m\n",
      "\u001b[1;31mNameError\u001b[0m: name 'x' is not defined"
     ]
    }
   ],
   "source": [
    "def my_function():\n",
    "    x = 10  # Local variable\n",
    "    print(x)  # Output: 10\n",
    "my_function()\n",
    "print(x)  # Error: NameError: name 'x' is not defined"
   ]
  },
  {
   "cell_type": "markdown",
   "id": "bedbbef2",
   "metadata": {},
   "source": [
    "Variables defined outside of any function, at the top level of a module, have global scope. They can be accessed and modified from anywhere within the module, including inside functions. Global variables persist throughout the entire execution of the program and can be accessed by any function or code block within the module.\n",
    "Here's an example to illustrate global scope:"
   ]
  },
  {
   "cell_type": "code",
   "execution_count": 7,
   "id": "51acf7a9",
   "metadata": {},
   "outputs": [
    {
     "name": "stdout",
     "output_type": "stream",
     "text": [
      "10\n",
      "10\n"
     ]
    }
   ],
   "source": [
    "x = 10  # Global variable\n",
    "def my_function():\n",
    "    print(x)  # Output: 10\n",
    "my_function()\n",
    "print(x)  # Output: 10"
   ]
  },
  {
   "cell_type": "markdown",
   "id": "247ed162",
   "metadata": {},
   "source": [
    "In the above example, `x` is defined outside of any function, making it a global variable. It can be accessed and printed both inside the `my_function()` function and outside of it.\n",
    "It's important to note that if a variable is assigned a value within a function without being explicitly declared as global, it will be treated as a local variable within that function, even if a variable with the same name exists in the global scope."
   ]
  },
  {
   "cell_type": "markdown",
   "id": "720498b1",
   "metadata": {},
   "source": [
    "# 6.\tHow can you use the \"return\" statement in a Python function to return multiple values?"
   ]
  },
  {
   "cell_type": "markdown",
   "id": "6d66f9eb",
   "metadata": {},
   "source": [
    "In Python, the `return` statement in a function can be used to return multiple values by combining them into a data structure like a tuple, list, or dictionary. This allows you to package and return multiple values as a single entity. Here are a few ways to use the `return` statement to return multiple values:\n",
    "1. Using a Tuple:\n",
    "You can use a tuple to group multiple values and return them as a single tuple object. The values can be accessed individually when the function is called."
   ]
  },
  {
   "cell_type": "code",
   "execution_count": 8,
   "id": "c64f1346",
   "metadata": {},
   "outputs": [
    {
     "name": "stdout",
     "output_type": "stream",
     "text": [
      "(10, 20, 30)\n",
      "10\n",
      "20\n",
      "30\n"
     ]
    }
   ],
   "source": [
    "def get_values():\n",
    "    a = 10\n",
    "    b = 20\n",
    "    c = 30\n",
    "    return a, b, c\n",
    "\n",
    "result = get_values()\n",
    "print(result)  # Output: (10, 20, 30)\n",
    "print(result[0])  # Output: 10\n",
    "print(result[1])  # Output: 20\n",
    "print(result[2])  # Output: 30"
   ]
  },
  {
   "cell_type": "markdown",
   "id": "d25d61b1",
   "metadata": {},
   "source": [
    "2. Using a List:\n",
    "Similar to using a tuple, you can also use a list to group multiple values and return them as a single list object."
   ]
  },
  {
   "cell_type": "code",
   "execution_count": 9,
   "id": "53609acb",
   "metadata": {},
   "outputs": [
    {
     "name": "stdout",
     "output_type": "stream",
     "text": [
      "[10, 20, 30]\n",
      "10\n",
      "20\n",
      "30\n"
     ]
    }
   ],
   "source": [
    "def get_values():\n",
    "    a = 10\n",
    "    b = 20\n",
    "    c = 30\n",
    "    return [a, b, c]\n",
    "result = get_values()\n",
    "print(result)  # Output: [10, 20, 30]\n",
    "print(result[0])  # Output: 10\n",
    "print(result[1])  # Output: 20\n",
    "print(result[2])  # Output: 30"
   ]
  },
  {
   "cell_type": "markdown",
   "id": "486ffc5f",
   "metadata": {},
   "source": [
    "3. Using a Dictionary:\n",
    "You can also use a dictionary to return multiple values, where each value is associated with a specific key."
   ]
  },
  {
   "cell_type": "code",
   "execution_count": 10,
   "id": "1873c0c6",
   "metadata": {},
   "outputs": [
    {
     "name": "stdout",
     "output_type": "stream",
     "text": [
      "{'value_a': 10, 'value_b': 20, 'value_c': 30}\n",
      "10\n",
      "20\n",
      "30\n"
     ]
    }
   ],
   "source": [
    "def get_values():\n",
    "    a = 10\n",
    "    b = 20\n",
    "    c = 30\n",
    "    return {\"value_a\": a, \"value_b\": b, \"value_c\": c}\n",
    "\n",
    "result = get_values()\n",
    "print(result)  # Output: {'value_a': 10, 'value_b': 20, 'value_c': 30}\n",
    "print(result[\"value_a\"])  # Output: 10\n",
    "print(result[\"value_b\"])  # Output: 20\n",
    "print(result[\"value_c\"])  # Output: 30"
   ]
  },
  {
   "cell_type": "markdown",
   "id": "ad9128fe",
   "metadata": {},
   "source": [
    "# 7.\tWhat is the difference between the \"pass by value\" and \"pass by reference\" concepts when it \tcomes to function arguments in Python? "
   ]
  },
  {
   "cell_type": "markdown",
   "id": "b7c74182",
   "metadata": {},
   "source": [
    "The concepts of \"pass by value\" and \"pass by reference\" are not directly applicable because the underlying mechanism is slightly different. Python uses a combination of both concepts, which can sometimes lead to confusion. \n",
    "1. Pass by Value:\n",
    "In \"pass by value,\" the value of an argument is copied and passed to the function. Any modifications made to the parameter within the function do not affect the original argument.\n",
    "2. Pass by Reference:\n",
    "In \"pass by reference,\" a reference to the memory location of an argument is passed to the function. Modifying the parameter within the function affects the original argument since both point to the same memory location.\n",
    "However, in Python, the actual behavior depends on the type of the object being passed as an argument:\n",
    "- Immutable Objects (like numbers, strings, and tuples): Immutable objects are passed by value in Python. A copy of the value is made, and any changes made to the parameter within the function do not affect the original object.\n",
    "- Mutable Objects (like lists, dictionaries, and user-defined objects): Mutable objects are passed by reference in Python. A reference to the object is passed, and modifications made to the parameter within the function affect the original object.\n",
    "Let's look at an example to understand this behavior:"
   ]
  },
  {
   "cell_type": "code",
   "execution_count": 11,
   "id": "863a0629",
   "metadata": {},
   "outputs": [
    {
     "name": "stdout",
     "output_type": "stream",
     "text": [
      "5\n",
      "[1, 2, 3, 4]\n"
     ]
    }
   ],
   "source": [
    "def modify_value(num, lst):\n",
    "    num += 10\n",
    "    lst.append(4)\n",
    "\n",
    "number = 5\n",
    "my_list = [1, 2, 3]\n",
    "\n",
    "modify_value(number, my_list)\n",
    "\n",
    "print(number)  # Output: 5 (unchanged)\n",
    "print(my_list)  # Output: [1, 2, 3, 4] (modified)"
   ]
  },
  {
   "cell_type": "markdown",
   "id": "f2ddc94b",
   "metadata": {},
   "source": [
    "# 8. Create a function that can intake integer or decimal value and do following operations:\n",
    "\ta.\tLogarithmic function (log x)\n",
    "\tb.\tExponential function (exp(x))\n",
    "\tc.\tPower function with base 2 (2x)\n",
    "\td.\tSquare root"
   ]
  },
  {
   "cell_type": "markdown",
   "id": "9564da7a",
   "metadata": {},
   "source": [
    "Here's a function that can perform the requested operations on an input integer or decimal value:\n",
    "import math"
   ]
  },
  {
   "cell_type": "markdown",
   "id": "2b05a3b3",
   "metadata": {},
   "source": [
    "# !pip install maths\n",
    "import math\n",
    "def perform_operations(number):\n",
    "    # Logarithmic function (log x)\n",
    "    logarithm = math.log(number)  \n",
    "    # Exponential function (exp(x))\n",
    "    exponential = math.exp(number)\n",
    "    \n",
    "    # Power function with base 2 (2^x)\n",
    "    power = math.pow(2, number)\n",
    "     # Square root\n",
    "    square_root = math.sqrt(number)\n",
    "    \n",
    "    return logarithm, exponential, power, square_root\n",
    "\n",
    "# Example usage\n",
    "result = perform_operations(3.5)\n",
    "print(result)"
   ]
  },
  {
   "cell_type": "markdown",
   "id": "15b185b2",
   "metadata": {},
   "source": [
    "# 9. Create a function that takes a full name as an argument and returns first name and last name."
   ]
  },
  {
   "cell_type": "code",
   "execution_count": 5,
   "id": "18fa762b",
   "metadata": {},
   "outputs": [
    {
     "name": "stdout",
     "output_type": "stream",
     "text": [
      "First Name: Rahul\n",
      "Last Name: Yadav\n"
     ]
    }
   ],
   "source": [
    "#Here's a function that takes a full name as an argument and returns the first name and last name:\n",
    "\n",
    "def get_first_last_name(full_name):\n",
    "    names = full_name.split()\n",
    "    first_name = names[0]\n",
    "    last_name = names[-1]\n",
    "    return first_name, last_name\n",
    "\n",
    "# Example usage\n",
    "name = \"Rahul Yadav\"\n",
    "first_name, last_name = get_first_last_name(name)\n",
    "print(\"First Name:\", first_name)\n",
    "print(\"Last Name:\", last_name)"
   ]
  },
  {
   "cell_type": "code",
   "execution_count": null,
   "id": "058a2033",
   "metadata": {},
   "outputs": [],
   "source": []
  }
 ],
 "metadata": {
  "kernelspec": {
   "display_name": "Python 3 (ipykernel)",
   "language": "python",
   "name": "python3"
  },
  "language_info": {
   "codemirror_mode": {
    "name": "ipython",
    "version": 3
   },
   "file_extension": ".py",
   "mimetype": "text/x-python",
   "name": "python",
   "nbconvert_exporter": "python",
   "pygments_lexer": "ipython3",
   "version": "3.11.3"
  }
 },
 "nbformat": 4,
 "nbformat_minor": 5
}
