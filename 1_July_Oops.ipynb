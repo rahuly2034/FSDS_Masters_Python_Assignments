{
 "cells": [
  {
   "cell_type": "markdown",
   "id": "1e93b5b3",
   "metadata": {},
   "source": [
    "# 1. What is the primary goal of Object-Oriented Programming (OOP)?"
   ]
  },
  {
   "cell_type": "markdown",
   "id": "789453e6",
   "metadata": {},
   "source": [
    "To hold entire data into a single object such that it would be easy to pass this to other methods and objects."
   ]
  },
  {
   "cell_type": "markdown",
   "id": "232f57ee",
   "metadata": {},
   "source": [
    "# 2. What is an object in Python?"
   ]
  },
  {
   "cell_type": "markdown",
   "id": "5cd284dd",
   "metadata": {},
   "source": [
    "An Object is an instance of a Class. A class is like a blueprint while an instance is a copy of the class with actual values. Python is an object-oriented programming language that stresses objects i.e. it mainly emphasizes functions."
   ]
  },
  {
   "cell_type": "code",
   "execution_count": 1,
   "id": "a1ff503f",
   "metadata": {},
   "outputs": [
    {
     "name": "stdout",
     "output_type": "stream",
     "text": [
      "R8\n",
      "100000\n"
     ]
    }
   ],
   "source": [
    "class Cars:\n",
    "    def __init__(self, m, p):\n",
    "        self.model = m\n",
    "        self.price = p\n",
    "\n",
    "Audi = Cars(\"R8\", 100000)\n",
    "\n",
    "print(Audi.model)\n",
    "print(Audi.price)\n"
   ]
  },
  {
   "cell_type": "markdown",
   "id": "a161fa0a",
   "metadata": {},
   "source": [
    "# 3. What is a class in Python?"
   ]
  },
  {
   "cell_type": "markdown",
   "id": "1831e905",
   "metadata": {},
   "source": [
    "Python is an object oriented programming language. Almost everything in Python is an object, with its properties and methods. A Class is like an object constructor, or a \"blueprint\" for creating objects."
   ]
  },
  {
   "cell_type": "code",
   "execution_count": 2,
   "id": "4be0a513",
   "metadata": {},
   "outputs": [],
   "source": [
    "# Syntax class ClassName:"
   ]
  },
  {
   "cell_type": "markdown",
   "id": "47bd7bdd",
   "metadata": {},
   "source": [
    "# 4. What are attributes and methods in a class?"
   ]
  },
  {
   "cell_type": "markdown",
   "id": "db2aa204",
   "metadata": {},
   "source": [
    "Class Attributes are the attributes that belong to the class itself rather than a particular object. Usually, we use class attributes to define the attributes that have a common value among all the objects inside the class. Class Methods are the methods that have access to the class attributes."
   ]
  },
  {
   "cell_type": "markdown",
   "id": "c8aa5593",
   "metadata": {},
   "source": [
    "# 5. What is the difference between class variables and instance variables in Python?"
   ]
  },
  {
   "cell_type": "markdown",
   "id": "f155c496",
   "metadata": {},
   "source": [
    "Class variables are defined within the class but outside of any class methods. Instance variables are defined within class methods, typically the constructor. Changes made to the class variable affect all instances. Changes made to the instance variable does not affect all instances."
   ]
  },
  {
   "cell_type": "markdown",
   "id": "429981ff",
   "metadata": {},
   "source": [
    "# 6. What is the purpose of the self parameter in Python class methods?"
   ]
  },
  {
   "cell_type": "markdown",
   "id": "51e9a515",
   "metadata": {},
   "source": [
    "The self parameter is a reference to the current instance of the class, and is used to access variables that belongs to the class."
   ]
  },
  {
   "cell_type": "code",
   "execution_count": 3,
   "id": "6b75c1cf",
   "metadata": {},
   "outputs": [
    {
     "name": "stdout",
     "output_type": "stream",
     "text": [
      "Hello my name is Rahul\n"
     ]
    }
   ],
   "source": [
    "class Person:\n",
    "  def __init__(mysillyobject, name, age):\n",
    "    mysillyobject.name = name\n",
    "    mysillyobject.age = age\n",
    "\n",
    "  def myfunc(abc):\n",
    "    print(\"Hello my name is \" + abc.name)\n",
    "\n",
    "p1 = Person(\"Rahul\", 36)\n",
    "p1.myfunc()"
   ]
  },
  {
   "cell_type": "raw",
   "id": "a22806ea",
   "metadata": {},
   "source": [
    "7. For a library management system, you have to design the \"Book\" class with OOP\n",
    "principles in mind. The “Book” class will have following attributes:\n",
    "a. title: Represents the title of the book.\n",
    "b. author: Represents the author(s) of the book.\n",
    "c. isbn: Represents the ISBN (International Standard Book Number) of the book.\n",
    "d. publication_year: Represents the year of publication of the book.\n",
    "e. available_copies: Represents the number of copies available for checkout.\n",
    "The class will also include the following methods:\n",
    "a. check_out(self): Decrements the available copies by one if there are copies\n",
    "available for checkout.\n",
    "b. return_book(self): Increments the available copies by one when a book is\n",
    "returned.\n",
    "c. display_book_info(self): Displays the information about the book, including its\n",
    "attributes and the number of available copies."
   ]
  },
  {
   "cell_type": "code",
   "execution_count": 8,
   "id": "bb7776fc",
   "metadata": {},
   "outputs": [],
   "source": [
    "class Book:\n",
    "    def __init__(self, title, author, isbn, publication_year, available_copies):\n",
    "        self.title = title\n",
    "        self.author = author\n",
    "        self.isbn = isbn\n",
    "        self.publication_year = publication_year\n",
    "        self.available_copies = available_copies\n",
    "        \n",
    "    def check_out(self):\n",
    "        if self.available_copies > 0:\n",
    "            self.available_copies = self.available_copies - 1\n",
    "            print(f\"Book {self.title} checked out successfully\")\n",
    "        else:\n",
    "            print(f\"Book {self.title} is not avaialable\")\n",
    "    \n",
    "    def return_book(self):\n",
    "        self.available_copies = self.available_copies + 1  \n",
    "        print(f\"Book {self.title} is available now\")\n",
    "                    \n",
    "    def display_book(self):\n",
    "        print(\"Book Information:\")\n",
    "        print(f\"Title: {self.title}\")\n",
    "        print(f\"Author(s): {self.author}\")\n",
    "        print(f\"ISBN: {self.isbn}\")\n",
    "        print(f\"Publication Year: {self.publication_year}\")\n",
    "        print(f\"Available Copies: {self.available_copies}\")"
   ]
  },
  {
   "cell_type": "code",
   "execution_count": 10,
   "id": "34cbfc9e",
   "metadata": {},
   "outputs": [],
   "source": [
    "absolom = Book(\"ABSALOM\",\"WILLIAM FAULKNER\",\"0-340-01381-8\",2020,10)"
   ]
  },
  {
   "cell_type": "code",
   "execution_count": 12,
   "id": "95c86776",
   "metadata": {},
   "outputs": [
    {
     "name": "stdout",
     "output_type": "stream",
     "text": [
      "Book ABSALOM checked out successfully\n"
     ]
    }
   ],
   "source": [
    "absolom.check_out()"
   ]
  },
  {
   "cell_type": "code",
   "execution_count": 13,
   "id": "2a9d3ba6",
   "metadata": {},
   "outputs": [
    {
     "name": "stdout",
     "output_type": "stream",
     "text": [
      "Book ABSALOM is available now\n"
     ]
    }
   ],
   "source": [
    "absolom.return_book()"
   ]
  },
  {
   "cell_type": "raw",
   "id": "8f765025",
   "metadata": {},
   "source": [
    "8. For a ticket booking system, you have to design the \"Ticket\" class with OOP\n",
    "principles in mind. The “Ticket” class should have the following attributes:\n",
    "a. ticket_id: Represents the unique identifier for the ticket.\n",
    "b. event_name: Represents the name of the event.\n",
    "c. event_date: Represents the date of the event.\n",
    "d. venue: Represents the venue of the event.\n",
    "e. seat_number: Represents the seat number associated with the ticket.\n",
    "f. price: Represents the price of the ticket.\n",
    "g. is_reserved: Represents the reservation status of the ticket.\n",
    "The class also includes the following methods:\n",
    "a. reserve_ticket(self): Marks the ticket as reserved if it is not already reserved.\n",
    "b. cancel_reservation(self): Cancels the reservation of the ticket if it is already\n",
    "reserved.\n",
    "c. display_ticket_info(self): Displays the information about the ticket, including its\n",
    "attributes and reservation status."
   ]
  },
  {
   "cell_type": "code",
   "execution_count": 25,
   "id": "104d3632",
   "metadata": {},
   "outputs": [],
   "source": [
    "#Note - 1 for reserved and 0 for not reserved\n",
    "class Ticket:\n",
    "    def __init__(self,ticket_id,event_name,event_date,venue,seat_number,price,is_reserved):\n",
    "        self.ticket_id=ticket_id\n",
    "        self.event_name=event_name\n",
    "        self.event_date=event_date\n",
    "        self.venue=venue\n",
    "        self.seat_number=seat_number\n",
    "        self.price=price\n",
    "        self.is_reserved=is_reserved\n",
    "        \n",
    "    def reserve_ticket(self):\n",
    "        if self.is_reserved == 0:\n",
    "            self.is_reserved=1\n",
    "            print(f\"Your {self.ticket_id} conformed for {self.event_name} {self.event_date} and Your Seat Number : {self.seat_number} Price : {self.price}\")\n",
    "        else:\n",
    "            pass\n",
    "    \n",
    "    def cancel_reservation(self):\n",
    "        if self.is_reserved == 1:\n",
    "            print(\"Reservation Cancel because seat already reaserved\")\n",
    "            \n",
    "    def display_ticket_info(self):\n",
    "        print(f\"Your {self.ticket_id} conformed for {self.event_name} {self.event_date} and Your Seat Number : {self.seat_number} Price : {self.price}\")"
   ]
  },
  {
   "cell_type": "code",
   "execution_count": 26,
   "id": "a48f75bd",
   "metadata": {},
   "outputs": [],
   "source": [
    "delhi = Ticket(12334,\"delhi\",\"12/09/2022\",\"delhi club\",1344444,2344,1)"
   ]
  },
  {
   "cell_type": "code",
   "execution_count": 27,
   "id": "72c9a3f7",
   "metadata": {},
   "outputs": [],
   "source": [
    "delhi.reserve_ticket()"
   ]
  },
  {
   "cell_type": "code",
   "execution_count": 28,
   "id": "1cd0fdef",
   "metadata": {},
   "outputs": [
    {
     "name": "stdout",
     "output_type": "stream",
     "text": [
      "Reservation Cancel because seat already reaserved\n"
     ]
    }
   ],
   "source": [
    "delhi.cancel_reservation()"
   ]
  },
  {
   "cell_type": "code",
   "execution_count": 29,
   "id": "4cf2e279",
   "metadata": {},
   "outputs": [
    {
     "name": "stdout",
     "output_type": "stream",
     "text": [
      "Your 12334 conformed for delhi 12/09/2022 and Your Seat Number : 1344444 Price : 2344\n"
     ]
    }
   ],
   "source": [
    "delhi.display_ticket_info()"
   ]
  },
  {
   "cell_type": "raw",
   "id": "af097f32",
   "metadata": {},
   "source": [
    "9. You are creating a shopping cart for an e-commerce website. Using OOP to model\n",
    "the \"ShoppingCart\" functionality the class should contain following attributes and\n",
    "methods:\n",
    "a. items: Represents the list of items in the shopping cart.\n",
    "The class also includes the following methods:\n",
    "\n",
    "a. add_item(self, item): Adds an item to the shopping cart by appending it to the\n",
    "list of items.\n",
    "b. remove_item(self, item): Removes an item from the shopping cart if it exists in\n",
    "the list.\n",
    "c. view_cart(self): Displays the items currently present in the shopping cart.\n",
    "d. clear_cart(self): Clears all items from the shopping cart by reassigning an\n",
    "empty list to the items attribute."
   ]
  },
  {
   "cell_type": "code",
   "execution_count": 44,
   "id": "6eb311a1",
   "metadata": {},
   "outputs": [
    {
     "name": "stdout",
     "output_type": "stream",
     "text": [
      "Item 'Shirt' added to the shopping cart.\n",
      "Item 'Jeans' added to the shopping cart.\n",
      "Item 'Shoes' added to the shopping cart.\n",
      "Item 'Jeans' removed from the shopping cart.\n",
      "Shopping Cart Items:\n",
      "Shirt\n",
      "Shoes\n",
      "The shopping cart has been cleared.\n",
      "The shopping cart is empty.\n"
     ]
    }
   ],
   "source": [
    "# Solution to Question 9:\n",
    "class ShoppingCart:\n",
    "    def __init__(self):\n",
    "        self.items = []\n",
    "\n",
    "    def add_item(self, item):\n",
    "        self.items.append(item)\n",
    "        print(f\"Item '{item}' added to the shopping cart.\")\n",
    "\n",
    "    def remove_item(self, item):\n",
    "        if item in self.items:\n",
    "            self.items.remove(item)\n",
    "            print(f\"Item '{item}' removed from the shopping cart.\")\n",
    "        else:\n",
    "            print(f\"Item '{item}' is not in the shopping cart.\")\n",
    "\n",
    "    def view_cart(self):\n",
    "        if self.items:\n",
    "            print(\"Shopping Cart Items:\")\n",
    "            for item in self.items:\n",
    "                print(item)\n",
    "        else:\n",
    "            print(\"The shopping cart is empty.\")\n",
    "\n",
    "    def clear_cart(self):\n",
    "        self.items = []\n",
    "        print(\"The shopping cart has been cleared.\")\n",
    "\n",
    "\n",
    "# Creating a ShoppingCart object\n",
    "cart = ShoppingCart()\n",
    "\n",
    "# Adding items to the cart\n",
    "cart.add_item(\"Shirt\")\n",
    "cart.add_item(\"Jeans\")\n",
    "cart.add_item(\"Shoes\")\n",
    "\n",
    "# Removing an item from the cart\n",
    "cart.remove_item(\"Jeans\")\n",
    "\n",
    "# Displaying the items in the cart\n",
    "cart.view_cart()\n",
    "\n",
    "# Clearing the cart\n",
    "cart.clear_cart()\n",
    "\n",
    "# Displaying the items in the cart after clearing\n",
    "cart.view_cart()"
   ]
  },
  {
   "cell_type": "raw",
   "id": "cf6f33b1",
   "metadata": {},
   "source": [
    "10. Imagine a school management system. You have to design the \"Student\" class using\n",
    "OOP concepts.The “Student” class has the following attributes:\n",
    "a. name: Represents the name of the student.\n",
    "b. age: Represents the age of the student.\n",
    "c. grade: Represents the grade or class of the student.\n",
    "d. student_id: Represents the unique identifier for the student.\n",
    "e. attendance: Represents the attendance record of the student.\n",
    "The class should also include the following methods:\n",
    "a. update_attendance(self, date, status): Updates the attendance record of the\n",
    "student for a given date with the provided status (e.g., present or absent).\n",
    "b. get_attendance(self): Returns the attendance record of the student.\n",
    "c. get_average_attendance(self): Calculates and returns the average\n",
    "attendance percentage of the student based on their attendance record."
   ]
  },
  {
   "cell_type": "code",
   "execution_count": 61,
   "id": "2a521f27",
   "metadata": {},
   "outputs": [
    {
     "name": "stdout",
     "output_type": "stream",
     "text": [
      "{'2023-07-01': 'present', '2023-07-02': 'absent', '2023-07-03': 'present'}\n",
      "Average Attendance: 66.66666666666666%\n"
     ]
    }
   ],
   "source": [
    "# Solution to Question 10:\n",
    "class Student:\n",
    "    def __init__(self, name, age, grade, student_id):\n",
    "        self.name = name\n",
    "        self.age = age\n",
    "        self.grade = grade\n",
    "        self.student_id = student_id\n",
    "        self.attendance = {}\n",
    "\n",
    "    def update_attendance(self, date, status):\n",
    "        self.attendance[date] = status\n",
    "\n",
    "    def get_attendance(self):\n",
    "        return self.attendance\n",
    "\n",
    "    def get_average_attendance(self):\n",
    "        total_days = len(self.attendance)\n",
    "        if total_days > 0:\n",
    "            present_days = sum(status == \"present\" for status in self.attendance.values())\n",
    "            attendance_percentage = (present_days / total_days) * 100\n",
    "            return attendance_percentage\n",
    "        else:\n",
    "            return 0\n",
    "# Creating a Student object\n",
    "student1 = Student(\"Rahul Yadav\", 23, 1, \"443333\")\n",
    "\n",
    "# Updating attendance\n",
    "student1.update_attendance(\"2023-07-01\", \"present\")\n",
    "student1.update_attendance(\"2023-07-02\", \"absent\")\n",
    "student1.update_attendance(\"2023-07-03\", \"present\")\n",
    "\n",
    "# Getting attendance\n",
    "attendance_record = student1.get_attendance()\n",
    "print(attendance_record)\n",
    "\n",
    "# Getting average attendance\n",
    "average_attendance = student1.get_average_attendance()\n",
    "print(f\"Average Attendance: {average_attendance}%\")"
   ]
  },
  {
   "cell_type": "code",
   "execution_count": 55,
   "id": "65980b82",
   "metadata": {},
   "outputs": [],
   "source": []
  },
  {
   "cell_type": "code",
   "execution_count": null,
   "id": "66b3c9e6",
   "metadata": {},
   "outputs": [],
   "source": []
  },
  {
   "cell_type": "code",
   "execution_count": null,
   "id": "eb9d8e85",
   "metadata": {},
   "outputs": [],
   "source": []
  },
  {
   "cell_type": "code",
   "execution_count": null,
   "id": "28d8a952",
   "metadata": {},
   "outputs": [],
   "source": []
  }
 ],
 "metadata": {
  "kernelspec": {
   "display_name": "Python 3 (ipykernel)",
   "language": "python",
   "name": "python3"
  },
  "language_info": {
   "codemirror_mode": {
    "name": "ipython",
    "version": 3
   },
   "file_extension": ".py",
   "mimetype": "text/x-python",
   "name": "python",
   "nbconvert_exporter": "python",
   "pygments_lexer": "ipython3",
   "version": "3.11.3"
  }
 },
 "nbformat": 4,
 "nbformat_minor": 5
}
